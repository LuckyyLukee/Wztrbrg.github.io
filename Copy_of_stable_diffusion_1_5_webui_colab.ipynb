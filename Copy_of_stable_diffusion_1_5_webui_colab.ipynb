{
  "cells": [
    {
      "cell_type": "markdown",
      "metadata": {
        "id": "view-in-github",
        "colab_type": "text"
      },
      "source": [
        "<a href=\"https://colab.research.google.com/github/LuckyyLukee/Wztrbrg.github.io/blob/main/Copy_of_stable_diffusion_1_5_webui_colab.ipynb\" target=\"_parent\"><img src=\"https://colab.research.google.com/assets/colab-badge.svg\" alt=\"Open In Colab\"/></a>"
      ]
    },
    {
      "cell_type": "code",
      "execution_count": null,
      "metadata": {
        "id": "SaAJk33ppFw1"
      },
      "outputs": [],
      "source": [
        "!pip install -q https://github.com/camenduru/stable-diffusion-webui-colab/releases/download/0.0.15/xformers-0.0.15+e163309.d20230103-cp38-cp38-linux_x86_64.whl\n",
        "\n",
        "!git clone https://github.com/camenduru/stable-diffusion-webui\n",
        "!git clone https://github.com/deforum-art/deforum-for-automatic1111-webui /content/stable-diffusion-webui/extensions/deforum-for-automatic1111-webui\n",
        "!git clone https://github.com/yfszzx/stable-diffusion-webui-images-browser /content/stable-diffusion-webui/extensions/stable-diffusion-webui-images-browser\n",
        "!git clone https://github.com/camenduru/stable-diffusion-webui-huggingface /content/stable-diffusion-webui/extensions/stable-diffusion-webui-huggingface\n",
        "%cd /content/stable-diffusion-webui\n",
        "\n",
        "!wget https://huggingface.co/camenduru/sd15/resolve/main/v1-5-pruned-emaonly.ckpt -O /content/stable-diffusion-webui/models/Stable-diffusion/v1-5-pruned-emaonly.ckpt\n",
        "!wget https://huggingface.co/acheong08/f222/resolve/main/f222.ckpt -O /content/stable-diffusion-webui/models/Stable-diffusion/f222.ckpt\n",
        "!wget https://huggingface.co/wavymulder/Analog-Diffusion/resolve/main/analog-diffusion-1.0.ckpt -O /content/stable-diffusion-webui/models/Stable-diffusion/analog-diffusion-1.0.ckpt\n",
        "!wget https://cdn-131.anonfiles.com/6123m6F6y9/5df8aa3c-1672955421/pyros-bj-v1-0.ckpt -O /content/stable-diffusion-webui/models/Stable-diffusion/pyros-bj-v1-0.ckpt\n",
        "!wget https://huggingface.co/hassanblend/hassanblend1.4/resolve/main/HassanBlend1.4.ckpt -O /content/stable-diffusion-webui/models/Stable-diffusion/HassanBlend1.4.ckpt\n",
        "!wget https://file150.gofile.io/download/5be9bfc0-c134-42b0-8902-41ae32bffdd2/dreambooth-bkdbj-4000step-pruned-fp16.ckpt -O /content/stable-diffusion-webui/models/Stable-diffusion/dreambooth-bkdbj-4000step-pruned-fp16.ckpt\n",
        "\n",
        "!sed -i -e '''/prepare_environment()/a\\    os.system\\(f\\\"\"\"sed -i -e ''\\\"s/self.logvar\\\\[t\\\\]/self.logvar\\\\[t.item()\\\\]/g\\\"'' /content/stable-diffusion-webui/repositories/stable-diffusion-stability-ai/ldm/models/diffusion/ddpm.py\"\"\")''' /content/stable-diffusion-webui/launch.py\n",
        "!python launch.py --share --xformers"
      ]
    }
  ],
  "metadata": {
    "accelerator": "GPU",
    "colab": {
      "private_outputs": true,
      "provenance": [],
      "include_colab_link": true
    },
    "gpuClass": "standard",
    "kernelspec": {
      "display_name": "Python 3",
      "name": "python3"
    },
    "language_info": {
      "name": "python"
    }
  },
  "nbformat": 4,
  "nbformat_minor": 0
}